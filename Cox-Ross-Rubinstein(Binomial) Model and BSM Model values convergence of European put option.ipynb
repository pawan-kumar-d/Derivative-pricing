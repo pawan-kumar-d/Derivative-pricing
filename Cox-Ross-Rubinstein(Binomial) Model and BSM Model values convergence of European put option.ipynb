{
 "cells": [
  {
   "cell_type": "code",
   "execution_count": 37,
   "metadata": {
    "collapsed": true,
    "scrolled": true
   },
   "outputs": [],
   "source": [
    "import numpy as np\n",
    "import math\n",
    "from scipy.stats import norm\n",
    "import matplotlib.pyplot as plt\n",
    "%matplotlib inline"
   ]
  },
  {
   "cell_type": "code",
   "execution_count": 38,
   "metadata": {
    "collapsed": true
   },
   "outputs": [],
   "source": [
    "# S0 : Current stock price = 60 $\n",
    "# rf : Risk free rate = 5 % or 0.05\n",
    "# T : Time to maturity =  2 years\n",
    "# N : Number of time steps \n",
    "# sigma : Volatility = 20 % or 0.20\n",
    "# K : Exercise price = 50 $"
   ]
  },
  {
   "cell_type": "code",
   "execution_count": 39,
   "metadata": {
    "collapsed": true
   },
   "outputs": [],
   "source": [
    "def european_put_binomial(S0,rf,T,N,sigma,K):\n",
    "    dt = T/N\n",
    "    K = float(K)\n",
    "    up = np.resize(np.arange(N+1), (N+1, N+1))\n",
    "    down = up.transpose()*2\n",
    "    S = S0 * np.exp(sigma * math.sqrt(dt) * (up - down))\n",
    "    E = np.maximum(K - S,0)\n",
    "    u = np.exp(sigma * (dt ** 0.5))\n",
    "    d = 1 / u \n",
    "    p = ((np.exp(rf*dt) - d)/(u - d))\n",
    "    A = np.zeros((N+1,N+1))\n",
    "    A[:,-1] = E[:,-1]\n",
    "    for i in range(N-1,-1,-1):\n",
    "        for j in range(N-1,-1,-1):\n",
    "            if j > i :\n",
    "                continue\n",
    "            else:\n",
    "                A[j,i] = np.exp(-rf*dt)*(p * A[j,i+1] + (1-p) * A[j+1,i+1])\n",
    "    return A[0,0]"
   ]
  },
  {
   "cell_type": "code",
   "execution_count": 40,
   "metadata": {
    "collapsed": true
   },
   "outputs": [],
   "source": [
    "n = norm.cdf \n",
    "def european_put_bsm(S0,rf,T,sigma,K):\n",
    "    d1 = (np.log(S0/K) + (rf + (sigma**2 )/ 2) * T)/(sigma * (T ** 0.5))\n",
    "    d2 = d1 - sigma * (T ** 0.5)\n",
    "    p = K * np.exp(-rf*T) * n(-d2) - S0 * n(-d1)\n",
    "    return p"
   ]
  },
  {
   "cell_type": "code",
   "execution_count": 41,
   "metadata": {},
   "outputs": [],
   "source": [
    "bsm = european_put_bsm(60, 0.05, 2, 0.2,50).round(3)\n",
    "binomial_values = []\n",
    "l = range(1,1000,20)\n",
    "for N in l:\n",
    "    binom = european_put_binomial(60, 0.05, 2, N, 0.2, 50).round(3)\n",
    "    binomial_values.append(binom)    "
   ]
  },
  {
   "cell_type": "code",
   "execution_count": 42,
   "metadata": {},
   "outputs": [
    {
     "name": "stdout",
     "output_type": "stream",
     "text": [
      "The value of the option with binomial model is 1.225\n",
      "The value of the option with the BSM Model is 1.224\n"
     ]
    }
   ],
   "source": [
    "print(\"The value of the option with binomial model is \"+str(binomial_values[-1]))\n",
    "print(\"The value of the option with the BSM Model is \"+str(bsm))"
   ]
  },
  {
   "cell_type": "code",
   "execution_count": 43,
   "metadata": {},
   "outputs": [
    {
     "data": {
      "image/png": "[encoded data removed]",
      "text/plain": [
       "<matplotlib.figure.Figure at 0x26911923780>"
      ]
     },
     "metadata": {},
     "output_type": "display_data"
    }
   ],
   "source": [
    "Nn = list(l)\n",
    "\n",
    "plt.figure(figsize=(10,6))\n",
    "plt.plot(Nn, binomial_values)\n",
    "plt.axhline(bsm,color='r')\n",
    "\n",
    "plt.xlabel('Number of binomial steps')\n",
    "plt.ylabel('Option values')\n",
    "\n",
    "plt.legend(['BSM Model Value','Binomial Model values']);"
   ]
  }
 ],
 "metadata": {
  "kernelspec": {
   "display_name": "Python 3",
   "language": "python",
   "name": "python3"
  },
  "language_info": {
   "codemirror_mode": {
    "name": "ipython",
    "version": 3
   },
   "file_extension": ".py",
   "mimetype": "text/x-python",
   "name": "python",
   "nbconvert_exporter": "python",
   "pygments_lexer": "ipython3",
   "version": "3.6.1"
  }
 },
 "nbformat": 4,
 "nbformat_minor": 2
}
