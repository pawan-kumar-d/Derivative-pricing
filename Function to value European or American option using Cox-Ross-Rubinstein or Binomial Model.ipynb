{
 "cells": [
  {
   "cell_type": "code",
   "execution_count": 5,
   "metadata": {
    "collapsed": true
   },
   "outputs": [],
   "source": [
    "import numpy as np"
   ]
  },
  {
   "cell_type": "code",
   "execution_count": 6,
   "metadata": {
    "collapsed": true
   },
   "outputs": [],
   "source": [
    "# arguments of the function binomial(option_type,call_put,S0,rf,T,N,sigma,K)\n",
    "# option_type : 'american' or 'european'\n",
    "# call_put : 'call' or 'put'\n",
    "# S0 : Current stock price = 60 $\n",
    "# rf : Risk free rate = 5 % or 0.05\n",
    "# T : Time to maturity =  2 years\n",
    "# N : Number of time steps \n",
    "# sigma : Volatility = 20 % or 0.20\n",
    "# K : Exercise price = 50 $\n",
    "\n",
    "# returns the option value"
   ]
  },
  {
   "cell_type": "code",
   "execution_count": 7,
   "metadata": {
    "collapsed": true
   },
   "outputs": [],
   "source": [
    "def binomial(option_type,call_put,S0,rf,T,N,sigma,K):\n",
    "    dt = T/N\n",
    "    K = float(K)\n",
    "    up = np.resize(np.arange(N+1), (N+1, N+1))\n",
    "    down = up.transpose()*2\n",
    "    S = S0 * np.exp(sigma * (dt ** 0.5) * (up - down)) # S is the numpy array of Stock prices over the time steps\n",
    "    u = np.exp(sigma * (dt ** 0.5))\n",
    "    d = 1 / u \n",
    "    p = ((np.exp(rf*dt) - d)/(u - d))\n",
    "    A = np.zeros((N+1,N+1))\n",
    "    if call_put == 'call':\n",
    "        E = np.maximum(S - K,0)\n",
    "    else:        \n",
    "        E = np.maximum(K - S,0) # E is the numpy array of payoff from exercise of the option at different time steps\n",
    "    A[:,-1] = E[:,-1]           # A is the numpy array of present value of option payoff at maturity for european options or ..\n",
    "                                # .. maximum of PV of option payoff at maturity and option payoff for american options at that time step\n",
    "    for i in range(N-1,-1,-1):\n",
    "        for j in range(N-1,-1,-1):\n",
    "            if j > i :\n",
    "                continue\n",
    "            else:                    \n",
    "                A[j,i] = np.exp(-rf*dt)*(p * A[j,i+1] + (1-p) * A[j+1,i+1])\n",
    "                if option_type == 'american':\n",
    "                    if E[j,i] > A[j,i]:\n",
    "                        A[j,i] = E[j,i]\n",
    "    return A[0,0]"
   ]
  },
  {
   "cell_type": "code",
   "execution_count": 8,
   "metadata": {},
   "outputs": [
    {
     "data": {
      "text/plain": [
       "6.094691940023481"
      ]
     },
     "execution_count": 8,
     "metadata": {},
     "output_type": "execute_result"
    }
   ],
   "source": [
    "binomial('american','put',50,0.03,2,100,0.2624,50)"
   ]
  },
  {
   "cell_type": "code",
   "execution_count": null,
   "metadata": {
    "collapsed": true
   },
   "outputs": [],
   "source": []
  }
 ],
 "metadata": {
  "kernelspec": {
   "display_name": "Python 3",
   "language": "python",
   "name": "python3"
  },
  "language_info": {
   "codemirror_mode": {
    "name": "ipython",
    "version": 3
   },
   "file_extension": ".py",
   "mimetype": "text/x-python",
   "name": "python",
   "nbconvert_exporter": "python",
   "pygments_lexer": "ipython3",
   "version": "3.6.1"
  }
 },
 "nbformat": 4,
 "nbformat_minor": 2
}
